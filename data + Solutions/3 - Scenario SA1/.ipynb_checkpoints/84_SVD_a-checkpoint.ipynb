{
 "cells": [
  {
   "cell_type": "raw",
   "metadata": {},
   "source": []
  },
  {
   "cell_type": "code",
   "execution_count": 2,
   "metadata": {
    "colab": {},
    "colab_type": "code",
    "id": "QpUC97by3yw7",
    "outputId": "d3313221-5a72-4390-8251-cf383a957b8d",
    "scrolled": true
   },
   "outputs": [
    {
     "ename": "ModuleNotFoundError",
     "evalue": "No module named 'seaborn'",
     "output_type": "error",
     "traceback": [
      "\u001b[0;31m---------------------------------------------------------------------------\u001b[0m",
      "\u001b[0;31mModuleNotFoundError\u001b[0m                       Traceback (most recent call last)",
      "\u001b[0;32m<ipython-input-2-85a678d7ea19>\u001b[0m in \u001b[0;36m<module>\u001b[0;34m\u001b[0m\n\u001b[1;32m      6\u001b[0m \u001b[0;32mfrom\u001b[0m \u001b[0msklearn\u001b[0m\u001b[0;34m.\u001b[0m\u001b[0mdatasets\u001b[0m \u001b[0;32mimport\u001b[0m \u001b[0mload_boston\u001b[0m\u001b[0;34m\u001b[0m\u001b[0;34m\u001b[0m\u001b[0m\n\u001b[1;32m      7\u001b[0m \u001b[0;32mfrom\u001b[0m \u001b[0msklearn\u001b[0m \u001b[0;32mimport\u001b[0m \u001b[0mpreprocessing\u001b[0m\u001b[0;34m\u001b[0m\u001b[0;34m\u001b[0m\u001b[0m\n\u001b[0;32m----> 8\u001b[0;31m \u001b[0;32mimport\u001b[0m \u001b[0mseaborn\u001b[0m \u001b[0;32mas\u001b[0m \u001b[0msns\u001b[0m\u001b[0;34m\u001b[0m\u001b[0;34m\u001b[0m\u001b[0m\n\u001b[0m\u001b[1;32m      9\u001b[0m \u001b[0;32mfrom\u001b[0m \u001b[0mnumpy\u001b[0m \u001b[0;32mimport\u001b[0m \u001b[0mdot\u001b[0m\u001b[0;34m\u001b[0m\u001b[0;34m\u001b[0m\u001b[0m\n\u001b[1;32m     10\u001b[0m \u001b[0mnp\u001b[0m\u001b[0;34m.\u001b[0m\u001b[0mrandom\u001b[0m\u001b[0;34m.\u001b[0m\u001b[0mseed\u001b[0m\u001b[0;34m(\u001b[0m\u001b[0;36m678\u001b[0m\u001b[0;34m)\u001b[0m\u001b[0;34m\u001b[0m\u001b[0;34m\u001b[0m\u001b[0m\n",
      "\u001b[0;31mModuleNotFoundError\u001b[0m: No module named 'seaborn'"
     ]
    }
   ],
   "source": [
    "#%reset\n",
    "import numpy as np\n",
    "import matplotlib.pylab as plt\n",
    "import pandas as pd\n",
    "from sklearn.datasets import fetch_olivetti_faces\n",
    "from sklearn.datasets import load_boston\n",
    "from sklearn import preprocessing\n",
    "import seaborn as sns\n",
    "from numpy import dot\n",
    "np.random.seed(678)"
   ]
  },
  {
   "cell_type": "code",
   "execution_count": 0,
   "metadata": {
    "colab": {},
    "colab_type": "code",
    "id": "lzn_QHdl3yxC",
    "outputId": "103027df-e9b4-4faa-d5e7-7a2311aba3ce"
   },
   "outputs": [
    {
     "name": "stdout",
     "output_type": "stream",
     "text": [
      "Original Data Shape:  (2, 3)\n",
      "dot(A,A.T) Eigen Value:  (2,)\n",
      "dot(A,A.T) Eigen Vector:  (2, 2)\n",
      "dot(A.T,A) Eigen Value:  (3,)\n",
      "dot(A.T,A) Eigen Vector:  (3, 3)\n"
     ]
    }
   ],
   "source": [
    "# create the first data\n",
    "data_1 = np.array([\n",
    "    [3,1,1],\n",
    "    [-1,3,1]\n",
    "])\n",
    "\n",
    "w_1_1 = data_1.dot(data_1.T)\n",
    "e_value_1_1,e_vector_1_1 = np.linalg.eigh(w_1_1)\n",
    "\n",
    "w_1_2 = data_1.T.dot(data_1)\n",
    "e_value_1_2,e_vector_1_2 = np.linalg.eigh(w_1_2)\n",
    "\n",
    "print(\"Original Data Shape: \", data_1.shape)\n",
    "print('dot(A,A.T) Eigen Value: ',e_value_1_1.shape)\n",
    "print('dot(A,A.T) Eigen Vector: ',e_vector_1_1.shape)\n",
    "print('dot(A.T,A) Eigen Value: ',e_value_1_2.shape)\n",
    "print('dot(A.T,A) Eigen Vector: ',e_vector_1_2.shape)"
   ]
  },
  {
   "cell_type": "code",
   "execution_count": 0,
   "metadata": {
    "colab": {},
    "colab_type": "code",
    "id": "ubQr26Dq3yxF",
    "outputId": "640a6e27-101d-49b1-e9de-4bb854916d9f"
   },
   "outputs": [
    {
     "name": "stdout",
     "output_type": "stream",
     "text": [
      "Sqrt Root Sum of One :  22.0\n",
      "Sqrt Root Sum of Two :  22.000000000000007\n",
      "\n",
      "---------\n",
      "Number of Non Zero Eigen Values  2\n",
      "Number ofNon Zero Eigen Values  3\n",
      "\n",
      "---------\n",
      "Number of Small Eigen Values  2\n",
      "Number of Small Eigen Values  2\n",
      "[12. 10.]\n",
      "[ 1.20000000e+01  1.00000000e+01 -2.25970772e-15]\n"
     ]
    }
   ],
   "source": [
    "# Sort the eigen vector via the eigen value ranks\n",
    "idx_1_1 = e_value_1_1.argsort()[::-1]   \n",
    "e_value_1_1 = e_value_1_1[idx_1_1]\n",
    "e_vector_1_1 = e_vector_1_1[:,idx_1_1]\n",
    "\n",
    "idx_1_2 = e_value_1_2.argsort()[::-1]   \n",
    "e_value_1_2 = e_value_1_2[idx_1_2]\n",
    "e_vector_1_2 = e_vector_1_2[:,idx_1_2]\n",
    "\n",
    "# Campare the eigen vectors and see if their non zero elements are equal\n",
    "rows_1_1 = np.nonzero(e_value_1_1)\n",
    "rows_1_2 = np.nonzero(e_value_1_2)\n",
    "non_zero_1_1 = e_value_1_1[rows_1_1].copy()\n",
    "non_zero_1_2 = e_value_1_2[rows_1_2].copy()\n",
    "\n",
    "\n",
    "print('Sqrt Root Sum of One : ',np.sqrt(non_zero_1_1**2).sum())\n",
    "print('Sqrt Root Sum of Two : ',np.sqrt(non_zero_1_2**2).sum())\n",
    "\n",
    "print('\\n---------')\n",
    "print('Number of Non Zero Eigen Values ', (non_zero_1_1!=0).sum() )\n",
    "print('Number ofNon Zero Eigen Values ',  (non_zero_1_2!=0).sum() )\n",
    "\n",
    "print('\\n---------')\n",
    "print('Number of Small Eigen Values ', (non_zero_1_1>1e-5).sum() )\n",
    "print('Number of Small Eigen Values ',(non_zero_1_2>1e-5).sum() )\n",
    "\n",
    "print(non_zero_1_1)\n",
    "print(non_zero_1_2)"
   ]
  },
  {
   "cell_type": "code",
   "execution_count": 0,
   "metadata": {
    "colab": {},
    "colab_type": "code",
    "id": "emeCJopw3yxJ",
    "outputId": "5aba2da1-82cc-4fe5-ab7b-ad28e998b490"
   },
   "outputs": [
    {
     "name": "stdout",
     "output_type": "stream",
     "text": [
      "------------------\n",
      "Created Matrix U :  [[ 0.70710678 -0.70710678]\n",
      " [ 0.70710678  0.70710678]]\n",
      "Created Matrix S :  [[3.46410162 0.         0.        ]\n",
      " [0.         3.16227766 0.        ]]\n",
      "Created Matrix V :  [[-4.08248290e-01 -8.16496581e-01 -4.08248290e-01]\n",
      " [ 8.94427191e-01 -4.47213595e-01  2.77555756e-16]\n",
      " [-1.82574186e-01 -3.65148372e-01  9.12870929e-01]]\n",
      "\n",
      "------------------\n",
      "Reconstructed matrix : \n",
      " [[-3. -1. -1.]\n",
      " [ 1. -3. -1.]]\n",
      "Original matrix : \n",
      " [[ 3  1  1]\n",
      " [-1  3  1]]\n"
     ]
    },
    {
     "data": {
      "text/plain": [
       "<matplotlib.collections.LineCollection at 0x227e7845cc0>"
      ]
     },
     "execution_count": 30,
     "metadata": {
      "tags": []
     },
     "output_type": "execute_result"
    },
    {
     "data": {
      "image/png": "[encoded data removed]",
      "text/plain": [
       "<Figure size 1080x1080 with 2 Axes>"
      ]
     },
     "metadata": {
      "tags": []
     },
     "output_type": "display_data"
    }
   ],
   "source": [
    "# Create each matrix\n",
    "U_1 = e_vector_1_1\n",
    "temp = np.diag(np.sqrt(non_zero_1_1))\n",
    "S_1 = np.zeros_like(data_1).astype(np.float64)\n",
    "S_1[:temp.shape[0],:temp.shape[1]] = temp\n",
    "V_1 = e_vector_1_2.T\n",
    "\n",
    "print('------------------')\n",
    "print(\"Created Matrix U : \\n\",U_1)\n",
    "print(\"Created Matrix S : \\n\",S_1)\n",
    "print(\"Created Matrix V : \\n\",V_1)\n",
    "\n",
    "print('\\n------------------')\n",
    "reconstructed_1 = dot(U_1,S_1).dot(V_1)\n",
    "print(\"Reconstructed matrix : \\n\",reconstructed_1)\n",
    "print(\"Original matrix : \\n\",data_1)\n",
    "\n",
    "df_1 = pd.DataFrame(np.hstack((data_1.T,reconstructed_1.T,-reconstructed_1.T)))\n",
    "plt.figure(figsize=(15,15))\n",
    "ax = sns.heatmap(np.around(df_1.corr(),2),annot=True,annot_kws={\"size\": 13},cmap=\"YlGnBu\")\n",
    "ax.xaxis.tick_top()\n",
    "ax.vlines([0,2,4,6], *ax.get_ylim())\n",
    "ax.hlines([0,2,4,6], *ax.get_xlim())"
   ]
  },
  {
   "cell_type": "code",
   "execution_count": 0,
   "metadata": {
    "colab": {},
    "colab_type": "code",
    "id": "WUrcxTjm3yxM",
    "outputId": "979feda3-8bf6-4257-fa34-57ca7ba45ff3"
   },
   "outputs": [
    {
     "name": "stdout",
     "output_type": "stream",
     "text": [
      "------------------\n",
      "Created Matrix U : \n",
      " [[ 0.70710678 -0.70710678]\n",
      " [ 0.70710678  0.70710678]]\n",
      "Created Matrix S : \n",
      " [[3.46410162 0.        ]\n",
      " [0.         3.16227766]]\n",
      "Created Matrix V : \n",
      " [[ 0.40824829 -0.89442719]\n",
      " [ 0.81649658  0.4472136 ]\n",
      " [ 0.40824829  0.        ]]\n",
      "\n",
      "------------------\n",
      "Reconstructed matrix : \n",
      " [[ 3.  1.  1.]\n",
      " [-1.  3.  1.]]\n",
      "Original matrix : \n",
      " [[ 3  1  1]\n",
      " [-1  3  1]]\n"
     ]
    },
    {
     "data": {
      "text/plain": [
       "<matplotlib.collections.LineCollection at 0x227e83130f0>"
      ]
     },
     "execution_count": 35,
     "metadata": {
      "tags": []
     },
     "output_type": "execute_result"
    },
    {
     "data": {
      "image/png": "[encoded data removed]",
      "text/plain": [
       "<Figure size 1080x1080 with 2 Axes>"
      ]
     },
     "metadata": {
      "tags": []
     },
     "output_type": "display_data"
    }
   ],
   "source": [
    "A = np.array([\n",
    "    [3,1,1],\n",
    "    [-1,3,1]\n",
    "])\n",
    "\n",
    "temp = A.dot(A.T)\n",
    "S,U = np.linalg.eig(temp)\n",
    "S = np.diag(np.sqrt(S))\n",
    "V = A.T.dot(U).dot(np.linalg.inv(S))\n",
    "\n",
    "print('------------------')\n",
    "print(\"Created Matrix U : \\n\",U)\n",
    "print(\"Created Matrix S : \\n\",S)\n",
    "print(\"Created Matrix V : \\n\",V)\n",
    "\n",
    "print('\\n------------------')\n",
    "reconstructed_2 = dot(U,S).dot(V.T)\n",
    "print(\"Reconstructed matrix : \\n\",reconstructed_2)\n",
    "print(\"Original matrix : \\n\",data_1)\n",
    "\n",
    "df_2 = pd.DataFrame(np.hstack((data_1.T,reconstructed_2.T)))\n",
    "plt.figure(figsize=(15,15))\n",
    "ax = sns.heatmap(np.around(df_2.corr(),2),annot=True,annot_kws={\"size\": 13},cmap=\"YlGnBu\")\n",
    "ax.xaxis.tick_top()\n",
    "ax.vlines([0,2,4,6], *ax.get_ylim())\n",
    "ax.hlines([0,2,4,6], *ax.get_xlim())"
   ]
  },
  {
   "cell_type": "code",
   "execution_count": 0,
   "metadata": {
    "colab": {},
    "colab_type": "code",
    "id": "za3P-8ad3yxP"
   },
   "outputs": [],
   "source": []
  }
 ],
 "metadata": {
  "colab": {
   "collapsed_sections": [],
   "name": "84 SVD a",
   "provenance": [],
   "version": "0.3.2"
  },
  "kernelspec": {
   "display_name": "Python 3",
   "language": "python",
   "name": "python3"
  },
  "language_info": {
   "codemirror_mode": {
    "name": "ipython",
    "version": 3
   },
   "file_extension": ".py",
   "mimetype": "text/x-python",
   "name": "python",
   "nbconvert_exporter": "python",
   "pygments_lexer": "ipython3",
   "version": "3.6.8"
  }
 },
 "nbformat": 4,
 "nbformat_minor": 1
}
